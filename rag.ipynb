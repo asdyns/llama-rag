{
 "cells": [
  {
   "cell_type": "code",
   "execution_count": 30,
   "metadata": {},
   "outputs": [],
   "source": [
    "pdf_file = \"paul.pdf\"\n",
    "model = \"llama3.2\""
   ]
  },
  {
   "cell_type": "code",
   "execution_count": 11,
   "metadata": {},
   "outputs": [
    {
     "name": "stdout",
     "output_type": "stream",
     "text": [
      "[Document(metadata={'source': 'paul.pdf', 'page': 0}, page_content='Want to start a startup? Get funded by Y Combinator .\\nJuly 2013\\nOne of the most common types of advice we give at Y Combinator\\nis to do things that don\\'t scale. A lot of would-be founders believe\\nthat startups either take off or don\\'t. You build something, make\\nit available, and if you\\'ve made a better mousetrap, people beat a\\npath to your door as promised. Or they don\\'t, in which case the\\nmarket must not exist. [1]\\nActually startups take off because the founders make them take\\noff. There may be a handful that just grew by themselves, but\\nusually it takes some sort of push to get them going. A good\\nmetaphor would be the cranks that car engines had before they\\ngot electric starters. Once the engine was going, it would keep\\ngoing, but there was a separate and laborious process to get it\\ngoing.\\nRecruit\\nThe most common unscalable thing founders have to do at the\\nstart is to recruit users manually. Nearly all startups have to. You\\ncan\\'t wait for users to come to you. You have to go out and get\\nthem.\\nStripe is one of the most successful startups we\\'ve funded, and\\nthe problem they solved was an urgent one. If anyone could have\\nsat back and waited for users, it was Stripe. But in fact they\\'re\\nfamous within YC for aggressive early user acquisition.\\nStartups building things for other startups have a big pool of\\npotential users in the other companies we\\'ve funded, and none\\ntook better advantage of it than Stripe. At YC we use the term\\n\"Collison installation\" for the technique they invented. More\\ndiffident founders ask \"Will you try our beta?\" and if the answer is\\nyes, they say \"Great, we\\'ll send you a link.\" But the Collison\\nbrothers weren\\'t going to wait. When anyone agreed to try Stripe\\nthey\\'d say \"Right then, give me your laptop\" and set them up on\\nthe spot.\\nThere are two reasons founders resist going out and recruiting\\nusers individually. One is a combination of shyness and laziness.\\nThey\\'d rather sit at home writing code than go out and talk to a\\nbunch of strangers and probably be rejected by most of them.\\nBut for a startup to succeed, at least one founder (usually the\\nCEO) will have to spend a lot of time on sales and marketing. [2]\\nThe other reason founders ignore this path is that the absolute\\nnumbers seem so small at first. This can\\'t be how the big, famous\\nstartups got started, they think. The mistake they make is to\\nunderestimate the power of compound growth. We encourage\\nevery startup to measure their progress by weekly growth rate . If\\nyou have 100 users, you need to get 10 more next week to growDo Things that Don\\'t Scale https://paulgraham.com/ds.html\\n1 of 9 13/10/24, 13:34'), Document(metadata={'source': 'paul.pdf', 'page': 1}, page_content='10% a week. And while 110 may not seem much better than 100,\\nif you keep growing at 10% a week you\\'ll be surprised how big\\nthe numbers get. After a year you\\'ll have 14,000 users, and after\\n2 years you\\'ll have 2 million.\\nYou\\'ll be doing different things when you\\'re acquiring users a\\nthousand at a time, and growth has to slow down eventually. But\\nif the market exists you can usually start by recruiting users\\nmanually and then gradually switch to less manual methods. [ 3]\\nAirbnb is a classic example of this technique. Marketplaces are so\\nhard to get rolling that you should expect to take heroic measures\\nat first. In Airbnb\\'s case, these consisted of going door to door in\\nNew York, recruiting new users and helping existing ones improve\\ntheir listings. When I remember the Airbnbs during YC, I picture\\nthem with rolly bags, because when they showed up for tuesday\\ndinners they\\'d always just flown back from somewhere.\\nFragile\\nAirbnb now seems like an unstoppable juggernaut, but early on it\\nwas so fragile that about 30 days of going out and engaging in\\nperson with users made the difference between success and\\nfailure.\\nThat initial fragility was not a unique feature of Airbnb. Almost all\\nstartups are fragile initially. And that\\'s one of the biggest things\\ninexperienced founders and investors (and reporters and know-it-\\nalls on forums) get wrong about them. They unconsciously judge\\nlarval startups by the standards of established ones. They\\'re like\\nsomeone looking at a newborn baby and concluding \"there\\'s no\\nway this tiny creature could ever accomplish anything.\"\\nIt\\'s harmless if reporters and know-it-alls dismiss your startup.\\nThey always get things wrong. It\\'s even ok if investors dismiss\\nyour startup; they\\'ll change their minds when they see growth.\\nThe big danger is that you\\'ll dismiss your startup yourself. I\\'ve\\nseen it happen. I often have to encourage founders who don\\'t see\\nthe full potential of what they\\'re building. Even Bill Gates made\\nthat mistake. He returned to Harvard for the fall semester after\\nstarting Microsoft. He didn\\'t stay long, but he wouldn\\'t have\\nreturned at all if he\\'d realized Microsoft was going to be even a\\nfraction of the size it turned out to be. [4]\\nThe question to ask about an early stage startup is not \"is this\\ncompany taking over the world?\" but \"how big could this company\\nget if the founders did the right things?\" And the right things\\noften seem both laborious and inconsequential at the time.\\nMicrosoft can\\'t have seemed very impressive when it was just a\\ncouple guys in Albuquerque writing Basic interpreters for a\\nmarket of a few thousand hobbyists (as they were then called),\\nbut in retrospect that was the optimal path to dominating\\nmicrocomputer software. And I know Brian Chesky and Joe\\nGebbia didn\\'t feel like they were en route to the big time as they\\nwere taking \"professional\" photos of their first hosts\\' apartments.\\nThey were just trying to survive. But in retrospect that too was\\nthe optimal path to dominating a big market.\\nHow do you find users to recruit manually? If you build something\\nto solve your own problems , then you only have to find your\\npeers, which is usually straightforward. Otherwise you\\'ll have toDo Things that Don\\'t Scale https://paulgraham.com/ds.html\\n2 of 9 13/10/24, 13:34'), Document(metadata={'source': 'paul.pdf', 'page': 2}, page_content=\"make a more deliberate effort to locate the most promising vein\\nof users. The usual way to do that is to get some initial set of\\nusers by doing a comparatively untargeted launch, and then to\\nobserve which kind seem most enthusiastic, and seek out more\\nlike them. For example, Ben Silbermann noticed that a lot of the\\nearliest Pinterest users were interested in design, so he went to a\\nconference of design bloggers to recruit users, and that worked\\nwell. [ 5]\\nDelight\\nYou should take extraordinary measures not just to acquire users,\\nbut also to make them happy. For as long as they could (which\\nturned out to be surprisingly long), Wufoo sent each new user a\\nhand-written thank you note. Your first users should feel that\\nsigning up with you was one of the best choices they ever made.\\nAnd you in turn should be racking your brains to think of new\\nways to delight them.\\nWhy do we have to teach startups this? Why is it counterintuitive\\nfor founders? Three reasons, I think.\\nOne is that a lot of startup founders are trained as engineers, and\\ncustomer service is not part of the training of engineers. You're\\nsupposed to build things that are robust and elegant, not be\\nslavishly attentive to individual users like some kind of\\nsalesperson. Ironically, part of the reason engineering is\\ntraditionally averse to handholding is that its traditions date from\\na time when engineers were less powerful — when they were only\\nin charge of their narrow domain of building things, rather than\\nrunning the whole show. You can be ornery when you're Scotty,\\nbut not when you're Kirk.\\nAnother reason founders don't focus enough on individual\\ncustomers is that they worry it won't scale. But when founders of\\nlarval startups worry about this, I point out that in their current\\nstate they have nothing to lose. Maybe if they go out of their way\\nto make existing users super happy, they'll one day have too\\nmany to do so much for. That would be a great problem to have.\\nSee if you can make it happen. And incidentally, when it does,\\nyou'll find that delighting customers scales better than you\\nexpected. Partly because you can usually find ways to make\\nanything scale more than you would have predicted, and partly\\nbecause delighting customers will by then have permeated your\\nculture.\\nI have never once seen a startup lured down a blind alley by\\ntrying too hard to make their initial users happy.\\nBut perhaps the biggest thing preventing founders from realizing\\nhow attentive they could be to their users is that they've never\\nexperienced such attention themselves. Their standards for\\ncustomer service have been set by the companies they've been\\ncustomers of, which are mostly big ones. Tim Cook doesn't send\\nyou a hand-written note after you buy a laptop. He can't. But you\\ncan. That's one advantage of being small: you can provide a level\\nof service no big company can. [ 6]\\nOnce you realize that existing conventions are not the upper\\nbound on user experience, it's interesting in a very pleasant way\\nto think about how far you could go to delight your users.Do Things that Don't Scale https://paulgraham.com/ds.html\\n3 of 9 13/10/24, 13:34\"), Document(metadata={'source': 'paul.pdf', 'page': 3}, page_content='Experience\\nI was trying to think of a phrase to convey how extreme your\\nattention to users should be, and I realized Steve Jobs had\\nalready done it: insanely great. Steve wasn\\'t just using \"insanely\"\\nas a synonym for \"very.\" He meant it more literally — that one\\nshould focus on quality of execution to a degree that in everyday\\nlife would be considered pathological.\\nAll the most successful startups we\\'ve funded have, and that\\nprobably doesn\\'t surprise would-be founders. What novice\\nfounders don\\'t get is what insanely great translates to in a larval\\nstartup. When Steve Jobs started using that phrase, Apple was\\nalready an established company. He meant the Mac (and its\\ndocumentation and even packaging — such is the nature of\\nobsession) should be insanely well designed and manufactured.\\nThat\\'s not hard for engineers to grasp. It\\'s just a more extreme\\nversion of designing a robust and elegant product.\\nWhat founders have a hard time grasping (and Steve himself\\nmight have had a hard time grasping) is what insanely great\\nmorphs into as you roll the time slider back to the first couple\\nmonths of a startup\\'s life. It\\'s not the product that should be\\ninsanely great, but the experience of being your user. The product\\nis just one component of that. For a big company it\\'s necessarily\\nthe dominant one. But you can and should give users an insanely\\ngreat experience with an early, incomplete, buggy product, if you\\nmake up the difference with attentiveness.\\nCan, perhaps, but should? Yes. Over-engaging with early users is\\nnot just a permissible technique for getting growth rolling. For\\nmost successful startups it\\'s a necessary part of the feedback\\nloop that makes the product good. Making a better mousetrap is\\nnot an atomic operation. Even if you start the way most\\nsuccessful startups have, by building something you yourself\\nneed, the first thing you build is never quite right. And except in\\ndomains with big penalties for making mistakes, it\\'s often better\\nnot to aim for perfection initially. In software, especially, it usually\\nworks best to get something in front of users as soon as it has a\\nquantum of utility, and then see what they do with it.\\nPerfectionism is often an excuse for procrastination, and in any\\ncase your initial model of users is always inaccurate, even if\\nyou\\'re one of them. [ 7]\\nThe feedback you get from engaging directly with your earliest\\nusers will be the best you ever get. When you\\'re so big you have\\nto resort to focus groups, you\\'ll wish you could go over to your\\nusers\\' homes and offices and watch them use your stuff like you\\ndid when there were only a handful of them.\\nFire\\nSometimes the right unscalable trick is to focus on a deliberately\\nnarrow market. It\\'s like keeping a fire contained at first to get it\\nreally hot before adding more logs.\\nThat\\'s what Facebook did. At first it was just for Harvard\\nstudents. In that form it only had a potential market of a few\\nthousand people, but because they felt it was really for them, a\\ncritical mass of them signed up. After Facebook stopped being forDo Things that Don\\'t Scale https://paulgraham.com/ds.html\\n4 of 9 13/10/24, 13:34'), Document(metadata={'source': 'paul.pdf', 'page': 4}, page_content='Harvard students, it remained for students at specific colleges for\\nquite a while. When I interviewed Mark Zuckerberg at Startup\\nSchool, he said that while it was a lot of work creating course lists\\nfor each school, doing that made students feel the site was their\\nnatural home.\\nAny startup that could be described as a marketplace usually has\\nto start in a subset of the market, but this can work for other\\nstartups as well. It\\'s always worth asking if there\\'s a subset of the\\nmarket in which you can get a critical mass of users quickly. [ 8]\\nMost startups that use the contained fire strategy do it\\nunconsciously. They build something for themselves and their\\nfriends, who happen to be the early adopters, and only realize\\nlater that they could offer it to a broader market. The strategy\\nworks just as well if you do it unconsciously. The biggest danger\\nof not being consciously aware of this pattern is for those who\\nnaively discard part of it. E.g. if you don\\'t build something for\\nyourself and your friends, or even if you do, but you come from\\nthe corporate world and your friends are not early adopters, you\\'ll\\nno longer have a perfect initial market handed to you on a platter.\\nAmong companies, the best early adopters are usually other\\nstartups. They\\'re more open to new things both by nature and\\nbecause, having just been started, they haven\\'t made all their\\nchoices yet. Plus when they succeed they grow fast, and you with\\nthem. It was one of many unforeseen advantages of the YC\\nmodel (and specifically of making YC big) that B2B startups now\\nhave an instant market of hundreds of other startups ready at\\nhand.\\nMeraki\\nFor hardware startups  there\\'s a variant of doing things that don\\'t\\nscale that we call \"pulling a Meraki.\" Although we didn\\'t fund\\nMeraki, the founders were Robert Morris\\'s grad students, so we\\nknow their history. They got started by doing something that\\nreally doesn\\'t scale: assembling their routers themselves.\\nHardware startups face an obstacle that software startups don\\'t.\\nThe minimum order for a factory production run is usually several\\nhundred thousand dollars. Which can put you in a catch-22:\\nwithout a product you can\\'t generate the growth you need to\\nraise the money to manufacture your product. Back when\\nhardware startups had to rely on investors for money, you had to\\nbe pretty convincing to overcome this. The arrival of\\ncrowdfunding (or more precisely, preorders) has helped a lot. But\\neven so I\\'d advise startups to pull a Meraki initially if they can.\\nThat\\'s what Pebble did. The Pebbles assembled  the first several\\nhundred watches themselves. If they hadn\\'t gone through that\\nphase, they probably wouldn\\'t have sold $10 million worth of\\nwatches when they did go on Kickstarter.\\nLike paying excessive attention to early customers, fabricating\\nthings yourself turns out to be valuable for hardware startups.\\nYou can tweak the design faster when you\\'re the factory, and you\\nlearn things you\\'d never have known otherwise. Eric Migicovsky\\nof Pebble said one of the things he learned was \"how valuable it\\nwas to source good screws.\" Who knew?\\nConsultDo Things that Don\\'t Scale https://paulgraham.com/ds.html\\n5 of 9 13/10/24, 13:34'), Document(metadata={'source': 'paul.pdf', 'page': 5}, page_content='Sometimes we advise founders of B2B startups to take over-\\nengagement to an extreme, and to pick a single user and act as if\\nthey were consultants building something just for that one user.\\nThe initial user serves as the form for your mold; keep tweaking\\ntill you fit their needs perfectly, and you\\'ll usually find you\\'ve\\nmade something other users want too. Even if there aren\\'t many\\nof them, there are probably adjacent territories that have more.\\nAs long as you can find just one user who really needs something\\nand can act on that need, you\\'ve got a toehold in making\\nsomething people want, and that\\'s as much as any startup needs\\ninitially. [ 9]\\nConsulting is the canonical example of work that doesn\\'t scale.\\nBut (like other ways of bestowing one\\'s favors liberally) it\\'s safe\\nto do it so long as you\\'re not being paid to. That\\'s where\\ncompanies cross the line. So long as you\\'re a product company\\nthat\\'s merely being extra attentive to a customer, they\\'re very\\ngrateful even if you don\\'t solve all their problems. But when they\\nstart paying you specifically for that attentiveness — when they\\nstart paying you by the hour — they expect you to do everything.\\nAnother consulting-like technique for recruiting initially lukewarm\\nusers is to use your software yourselves on their behalf. We did\\nthat at Viaweb. When we approached merchants asking if they\\nwanted to use our software to make online stores, some said no,\\nbut they\\'d let us make one for them. Since we would do anything\\nto get users, we did. We felt pretty lame at the time. Instead of\\norganizing big strategic e-commerce partnerships, we were trying\\nto sell luggage and pens and men\\'s shirts. But in retrospect it was\\nexactly the right thing to do, because it taught us how it would\\nfeel to merchants to use our software. Sometimes the feedback\\nloop was near instantaneous: in the middle of building some\\nmerchant\\'s site I\\'d find I needed a feature we didn\\'t have, so I\\'d\\nspend a couple hours implementing it and then resume building\\nthe site.\\nManual\\nThere\\'s a more extreme variant where you don\\'t just use your\\nsoftware, but are your software. When you only have a small\\nnumber of users, you can sometimes get away with doing by\\nhand things that you plan to automate later. This lets you launch\\nfaster, and when you do finally automate yourself out of the loop,\\nyou\\'ll know exactly what to build because you\\'ll have muscle\\nmemory from doing it yourself.\\nWhen manual components look to the user like software, this\\ntechnique starts to have aspects of a practical joke. For example,\\nthe way Stripe delivered \"instant\" merchant accounts to its first\\nusers was that the founders manually signed them up for\\ntraditional merchant accounts behind the scenes.\\nSome startups could be entirely manual at first. If you can find\\nsomeone with a problem that needs solving and you can solve it\\nmanually, go ahead and do that for as long as you can, and then\\ngradually automate the bottlenecks. It would be a little\\nfrightening to be solving users\\' problems in a way that wasn\\'t yet\\nautomatic, but less frightening than the far more common case of\\nhaving something automatic that doesn\\'t yet solve anyone\\'s\\nproblems.Do Things that Don\\'t Scale https://paulgraham.com/ds.html\\n6 of 9 13/10/24, 13:34'), Document(metadata={'source': 'paul.pdf', 'page': 6}, page_content=\"Big\\nI should mention one sort of initial tactic that usually doesn't\\nwork: the Big Launch. I occasionally meet founders who seem to\\nbelieve startups are projectiles rather than powered aircraft, and\\nthat they'll make it big if and only if they're launched with\\nsufficient initial velocity. They want to launch simultaneously in 8\\ndifferent publications, with embargoes. And on a tuesday, of\\ncourse, since they read somewhere that's the optimum day to\\nlaunch something.\\nIt's easy to see how little launches matter. Think of some\\nsuccessful startups. How many of their launches do you\\nremember? All you need from a launch is some initial core of\\nusers. How well you're doing a few months later will depend more\\non how happy you made those users than how many there were\\nof them. [10]\\nSo why do founders think launches matter? A combination of\\nsolipsism and laziness. They think what they're building is so\\ngreat that everyone who hears about it will immediately sign up.\\nPlus it would be so much less work if you could get users merely\\nby broadcasting your existence, rather than recruiting them one\\nat a time. But even if what you're building really is great, getting\\nusers will always be a gradual process — partly because great\\nthings are usually also novel, but mainly because users have\\nother things to think about.\\nPartnerships too usually don't work. They don't work for startups\\nin general, but they especially don't work as a way to get growth\\nstarted. It's a common mistake among inexperienced founders to\\nbelieve that a partnership with a big company will be their big\\nbreak. Six months later they're all saying the same thing: that\\nwas way more work than we expected, and we ended up getting\\npractically nothing out of it. [11]\\nIt's not enough just to do something extraordinary initially. You\\nhave to make an extraordinary effort initially. Any strategy that\\nomits the effort — whether it's expecting a big launch to get you\\nusers, or a big partner — is ipso facto suspect.\\nVector\\nThe need to do something unscalably laborious to get started is\\nso nearly universal that it might be a good idea to stop thinking\\nof startup ideas as scalars. Instead we should try thinking of\\nthem as pairs of what you're going to build, plus the unscalable\\nthing(s) you're going to do initially to get the company going.\\nIt could be interesting to start viewing startup ideas this way,\\nbecause now that there are two components you can try to be\\nimaginative about the second as well as the first. But in most\\ncases the second component will be what it usually is — recruit\\nusers manually and give them an overwhelmingly good\\nexperience — and the main benefit of treating startups as vectors\\nwill be to remind founders they need to work hard in two\\ndimensions. [ 12]\\nIn the best case, both components of the vector contribute to\\nyour company's DNA: the unscalable things you have to do to getDo Things that Don't Scale https://paulgraham.com/ds.html\\n7 of 9 13/10/24, 13:34\"), Document(metadata={'source': 'paul.pdf', 'page': 7}, page_content='started are not merely a necessary evil, but change the company\\npermanently for the better. If you have to be aggressive about\\nuser acquisition when you\\'re small, you\\'ll probably still be\\naggressive when you\\'re big. If you have to manufacture your own\\nhardware, or use your software on users\\'s behalf, you\\'ll learn\\nthings you couldn\\'t have learned otherwise. And most\\nimportantly, if you have to work hard to delight users when you\\nonly have a handful of them, you\\'ll keep doing it when you have a\\nlot.\\nNotes\\n[1] Actually Emerson never mentioned mousetraps specifically. He\\nwrote \"If a man has good corn or wood, or boards, or pigs, to\\nsell, or can make better chairs or knives, crucibles or church\\norgans, than anybody else, you will find a broad hard-beaten road\\nto his house, though it be in the woods.\"\\n[2] Thanks to Sam Altman for suggesting I make this explicit.\\nAnd no, you can\\'t avoid doing sales by hiring someone to do it for\\nyou. You have to do sales yourself initially. Later you can hire a\\nreal salesperson to replace you.\\n[3] The reason this works is that as you get bigger, your size\\nhelps you grow. Patrick Collison wrote \"At some point, there was\\na very noticeable change in how Stripe felt. It tipped from being\\nthis boulder we had to push to being a train car that in fact had\\nits own momentum.\"\\n[4] One of the more subtle ways in which YC can help founders is\\nby calibrating their ambitions, because we know exactly how a lot\\nof successful startups looked when they were just getting started.\\n[5] If you\\'re building something for which you can\\'t easily get a\\nsmall set of users to observe — e.g. enterprise software — and in\\na domain where you have no connections, you\\'ll have to rely on\\ncold calls and introductions. But should you even be working on\\nsuch an idea?\\n[6] Garry Tan pointed out an interesting trap founders fall into in\\nthe beginning. They want so much to seem big that they imitate\\neven the flaws of big companies, like indifference to individual\\nusers. This seems to them more \"professional.\" Actually it\\'s better\\nto embrace the fact that you\\'re small and use whatever\\nadvantages that brings.\\n[7] Your user model almost couldn\\'t be perfectly accurate,\\nbecause users\\' needs often change in response to what you build\\nfor them. Build them a microcomputer, and suddenly they need to\\nrun spreadsheets on it, because the arrival of your new\\nmicrocomputer causes someone to invent the spreadsheet.\\n[8] If you have to choose between the subset that will sign up\\nquickest and those that will pay the most, it\\'s usually best to pick\\nthe former, because those are probably the early adopters. They\\'llDo Things that Don\\'t Scale https://paulgraham.com/ds.html\\n8 of 9 13/10/24, 13:34'), Document(metadata={'source': 'paul.pdf', 'page': 8}, page_content=\"have a better influence on your product, and they won't make you\\nexpend as much effort on sales. And though they have less\\nmoney, you don't need that much to maintain your target growth\\nrate early on.\\n[9] Yes, I can imagine cases where you could end up making\\nsomething that was really only useful for one user. But those are\\nusually obvious, even to inexperienced founders. So if it's not\\nobvious you'd be making something for a market of one, don't\\nworry about that danger.\\n[10] There may even be an inverse correlation between launch\\nmagnitude and success. The only launches I remember are\\nfamous flops like the Segway and Google Wave. Wave is a\\nparticularly alarming example, because I think it was actually a\\ngreat idea that was killed partly by its overdone launch.\\n[11] Google grew big on the back of Yahoo, but that wasn't a\\npartnership. Yahoo was their customer.\\n[12] It will also remind founders that an idea where the second\\ncomponent is empty — an idea where there is nothing you can do\\nto get going, e.g. because you have no way to find users to\\nrecruit manually — is probably a bad idea, at least for those\\nfounders.\\nThanks to Sam Altman, Paul Buchheit, Patrick Collison, Kevin\\nHale, Steven Levy, Jessica Livingston, Geoff Ralston, and Garry\\nTan for reading drafts of this.\\nJapanese Translation\\n Russian Translation\\nFrench Translation\\n Arabic Translation\\nItalian Translation\\n Korean Translation\\nDo Things that Don't Scale https://paulgraham.com/ds.html\\n9 of 9 13/10/24, 13:34\")]\n",
      "Number of pages: 9\n"
     ]
    }
   ],
   "source": [
    "from langchain_community.document_loaders import PyPDFLoader\n",
    "\n",
    "loader = PyPDFLoader(pdf_file)\n",
    "pages = loader.load()\n",
    "\n",
    "print(pages)\n",
    "print(f\"Number of pages: {len(pages)}\")\n",
    "print(f\"Length of a page: {len(pages[2].page_content)}\")\n",
    "print(f\"Content of a page: {pages[2].page_content}\")\n"
   ]
  },
  {
   "cell_type": "code",
   "execution_count": 14,
   "metadata": {},
   "outputs": [
    {
     "name": "stdout",
     "output_type": "stream",
     "text": [
      "Number of chunks: 23\n",
      "Number of chunks: 1459\n",
      "Content of a chunk: 10% a week. And while 110 may not seem much better than 100,\n",
      "if you keep growing at 10% a week you'll be surprised how big\n",
      "the numbers get. After a year you'll have 14,000 users, and after\n",
      "2 years you'll have 2 million.\n",
      "You'll be doing different things when you're acquiring users a\n",
      "thousand at a time, and growth has to slow down eventually. But\n",
      "if the market exists you can usually start by recruiting users\n",
      "manually and then gradually switch to less manual methods. [ 3]\n",
      "Airbnb is a classic example of this technique. Marketplaces are so\n",
      "hard to get rolling that you should expect to take heroic measures\n",
      "at first. In Airbnb's case, these consisted of going door to door in\n",
      "New York, recruiting new users and helping existing ones improve\n",
      "their listings. When I remember the Airbnbs during YC, I picture\n",
      "them with rolly bags, because when they showed up for tuesday\n",
      "dinners they'd always just flown back from somewhere.\n",
      "Fragile\n",
      "Airbnb now seems like an unstoppable juggernaut, but early on it\n",
      "was so fragile that about 30 days of going out and engaging in\n",
      "person with users made the difference between success and\n",
      "failure.\n",
      "That initial fragility was not a unique feature of Airbnb. Almost all\n",
      "startups are fragile initially. And that's one of the biggest things\n",
      "inexperienced founders and investors (and reporters and know-it-\n",
      "alls on forums) get wrong about them. They unconsciously judge\n",
      "larval startups by the standards of established ones. They're like\n"
     ]
    }
   ],
   "source": [
    "from langchain_text_splitters import RecursiveCharacterTextSplitter\n",
    "\n",
    "splitter = RecursiveCharacterTextSplitter(\n",
    "    chunk_size=1500,\n",
    "    chunk_overlap=100\n",
    ")\n",
    "\n",
    "chunks = splitter.split_documents(pages)\n",
    "\n",
    "print(f\"Number of chunks: {len(chunks)}\")\n",
    "print(f\"Number of chunks: {len(chunks[2].page_content)}\")\n",
    "print(f\"Content of a chunk: {chunks[2].page_content}\")"
   ]
  },
  {
   "cell_type": "code",
   "execution_count": 15,
   "metadata": {},
   "outputs": [
    {
     "name": "stderr",
     "output_type": "stream",
     "text": [
      "/tmp/ipykernel_126654/3703884011.py:4: LangChainDeprecationWarning: The class `OllamaEmbeddings` was deprecated in LangChain 0.3.1 and will be removed in 1.0.0. An updated version of the class exists in the :class:`~langchain-ollama package and should be used instead. To use it run `pip install -U :class:`~langchain-ollama` and import as `from :class:`~langchain_ollama import OllamaEmbeddings``.\n",
      "  embeddings = OllamaEmbeddings(model=model)\n"
     ]
    }
   ],
   "source": [
    "from langchain_community.vectorstores import FAISS\n",
    "from langchain_community.embeddings import OllamaEmbeddings\n",
    "\n",
    "embeddings = OllamaEmbeddings(model=model)\n",
    "vectorstore = FAISS.from_documents(chunks, embeddings)"
   ]
  },
  {
   "cell_type": "code",
   "execution_count": 44,
   "metadata": {},
   "outputs": [
    {
     "data": {
      "text/plain": [
       "[Document(metadata={'source': 'paul.pdf', 'page': 1}, page_content='larval startups by the standards of established ones. They\\'re like\\nsomeone looking at a newborn baby and concluding \"there\\'s no\\nway this tiny creature could ever accomplish anything.\"\\nIt\\'s harmless if reporters and know-it-alls dismiss your startup.\\nThey always get things wrong. It\\'s even ok if investors dismiss\\nyour startup; they\\'ll change their minds when they see growth.\\nThe big danger is that you\\'ll dismiss your startup yourself. I\\'ve\\nseen it happen. I often have to encourage founders who don\\'t see\\nthe full potential of what they\\'re building. Even Bill Gates made\\nthat mistake. He returned to Harvard for the fall semester after\\nstarting Microsoft. He didn\\'t stay long, but he wouldn\\'t have\\nreturned at all if he\\'d realized Microsoft was going to be even a\\nfraction of the size it turned out to be. [4]\\nThe question to ask about an early stage startup is not \"is this\\ncompany taking over the world?\" but \"how big could this company\\nget if the founders did the right things?\" And the right things\\noften seem both laborious and inconsequential at the time.\\nMicrosoft can\\'t have seemed very impressive when it was just a\\ncouple guys in Albuquerque writing Basic interpreters for a\\nmarket of a few thousand hobbyists (as they were then called),\\nbut in retrospect that was the optimal path to dominating\\nmicrocomputer software. And I know Brian Chesky and Joe\\nGebbia didn\\'t feel like they were en route to the big time as they\\nwere taking \"professional\" photos of their first hosts\\' apartments.'),\n",
       " Document(metadata={'source': 'paul.pdf', 'page': 2}, page_content=\"in charge of their narrow domain of building things, rather than\\nrunning the whole show. You can be ornery when you're Scotty,\\nbut not when you're Kirk.\\nAnother reason founders don't focus enough on individual\\ncustomers is that they worry it won't scale. But when founders of\\nlarval startups worry about this, I point out that in their current\\nstate they have nothing to lose. Maybe if they go out of their way\\nto make existing users super happy, they'll one day have too\\nmany to do so much for. That would be a great problem to have.\\nSee if you can make it happen. And incidentally, when it does,\\nyou'll find that delighting customers scales better than you\\nexpected. Partly because you can usually find ways to make\\nanything scale more than you would have predicted, and partly\\nbecause delighting customers will by then have permeated your\\nculture.\\nI have never once seen a startup lured down a blind alley by\\ntrying too hard to make their initial users happy.\\nBut perhaps the biggest thing preventing founders from realizing\\nhow attentive they could be to their users is that they've never\\nexperienced such attention themselves. Their standards for\\ncustomer service have been set by the companies they've been\\ncustomers of, which are mostly big ones. Tim Cook doesn't send\\nyou a hand-written note after you buy a laptop. He can't. But you\\ncan. That's one advantage of being small: you can provide a level\\nof service no big company can. [ 6]\"),\n",
       " Document(metadata={'source': 'paul.pdf', 'page': 3}, page_content='Experience\\nI was trying to think of a phrase to convey how extreme your\\nattention to users should be, and I realized Steve Jobs had\\nalready done it: insanely great. Steve wasn\\'t just using \"insanely\"\\nas a synonym for \"very.\" He meant it more literally — that one\\nshould focus on quality of execution to a degree that in everyday\\nlife would be considered pathological.\\nAll the most successful startups we\\'ve funded have, and that\\nprobably doesn\\'t surprise would-be founders. What novice\\nfounders don\\'t get is what insanely great translates to in a larval\\nstartup. When Steve Jobs started using that phrase, Apple was\\nalready an established company. He meant the Mac (and its\\ndocumentation and even packaging — such is the nature of\\nobsession) should be insanely well designed and manufactured.\\nThat\\'s not hard for engineers to grasp. It\\'s just a more extreme\\nversion of designing a robust and elegant product.\\nWhat founders have a hard time grasping (and Steve himself\\nmight have had a hard time grasping) is what insanely great\\nmorphs into as you roll the time slider back to the first couple\\nmonths of a startup\\'s life. It\\'s not the product that should be\\ninsanely great, but the experience of being your user. The product\\nis just one component of that. For a big company it\\'s necessarily\\nthe dominant one. But you can and should give users an insanely\\ngreat experience with an early, incomplete, buggy product, if you\\nmake up the difference with attentiveness.'),\n",
       " Document(metadata={'source': 'paul.pdf', 'page': 0}, page_content=\"Want to start a startup? Get funded by Y Combinator .\\nJuly 2013\\nOne of the most common types of advice we give at Y Combinator\\nis to do things that don't scale. A lot of would-be founders believe\\nthat startups either take off or don't. You build something, make\\nit available, and if you've made a better mousetrap, people beat a\\npath to your door as promised. Or they don't, in which case the\\nmarket must not exist. [1]\\nActually startups take off because the founders make them take\\noff. There may be a handful that just grew by themselves, but\\nusually it takes some sort of push to get them going. A good\\nmetaphor would be the cranks that car engines had before they\\ngot electric starters. Once the engine was going, it would keep\\ngoing, but there was a separate and laborious process to get it\\ngoing.\\nRecruit\\nThe most common unscalable thing founders have to do at the\\nstart is to recruit users manually. Nearly all startups have to. You\\ncan't wait for users to come to you. You have to go out and get\\nthem.\\nStripe is one of the most successful startups we've funded, and\\nthe problem they solved was an urgent one. If anyone could have\\nsat back and waited for users, it was Stripe. But in fact they're\\nfamous within YC for aggressive early user acquisition.\\nStartups building things for other startups have a big pool of\\npotential users in the other companies we've funded, and none\\ntook better advantage of it than Stripe. At YC we use the term\")]"
      ]
     },
     "execution_count": 44,
     "metadata": {},
     "output_type": "execute_result"
    }
   ],
   "source": [
    "retreiver = vectorstore.as_retriever()\n",
    "retreiver.invoke(\"What can you get away with when you have a small number of users?\")"
   ]
  },
  {
   "cell_type": "code",
   "execution_count": 43,
   "metadata": {},
   "outputs": [
    {
     "data": {
      "text/plain": [
       "AIMessage(content=\"ANU stands for Australian National University, which is a public research university located in Canberra, Australia. It is one of the country's most prestigious universities and is known for its academic excellence, research quality, and international reputation.\\n\\nThe Australian National University was established in 1946 as a result of the merger of three separate institutions: the Australian National Research Council, the Australian Commonwealth Scientific Organization, and the Australian School of Economics. Today, ANU is one of Australia's largest and most respected universities, with over 38,000 students from more than 130 countries.\\n\\nANU is particularly known for its strong programs in fields such as science, technology, engineering, mathematics (STEM), law, medicine, and the arts. The university has a strong research focus, with many of its researchers receiving international recognition for their work.\\n\\nSome of ANU's notable facilities include:\\n\\n* The John Curtin School of Medical Research\\n* The Australian Institute of Aboriginal and Torres Strait Islander Studies\\n* The Crawford School of Public Policy\\n* The College of Science\\n\\nANU is also home to several world-class research centers, including the ANU Climate Change Research Centre, the ANU Cyber Security Research Centre, and the ANU Institute for Advanced Studies.\\n\\nOverall, ANU is a leading institution in Australia and a major player in the global higher education landscape.\", additional_kwargs={}, response_metadata={'model': 'llama3.2', 'created_at': '2024-10-13T03:55:38.222790021Z', 'message': {'role': 'assistant', 'content': ''}, 'done_reason': 'stop', 'done': True, 'total_duration': 27806708036, 'load_duration': 22242380, 'prompt_eval_count': 32, 'prompt_eval_duration': 482793000, 'eval_count': 271, 'eval_duration': 27260243000}, id='run-74db6a22-1877-40bc-85e4-307ce2ec7101-0', usage_metadata={'input_tokens': 32, 'output_tokens': 271, 'total_tokens': 303})"
      ]
     },
     "execution_count": 43,
     "metadata": {},
     "output_type": "execute_result"
    }
   ],
   "source": [
    "from langchain_ollama import ChatOllama\n",
    "\n",
    "ollama_model = ChatOllama(model=model, temperature=0)\n",
    "ollama_model.invoke(\"What is ANU in Canberra?\")"
   ]
  },
  {
   "cell_type": "code",
   "execution_count": 33,
   "metadata": {},
   "outputs": [
    {
     "name": "stdout",
     "output_type": "stream",
     "text": [
      "FIFA (Fédération Internationale de Football Association) is the international governing body of association football, also known as soccer. It was founded in 1904 and is responsible for setting the rules and regulations of the sport, organizing international tournaments, and promoting the growth of football worldwide.\n",
      "\n",
      "FIFA's main objectives are:\n",
      "\n",
      "1. To promote the development of football globally\n",
      "2. To organize international competitions, such as the FIFA World Cup\n",
      "3. To establish and enforce the laws of the game\n",
      "4. To protect the rights of players, teams, and fans\n",
      "\n",
      "Some of FIFA's key responsibilities include:\n",
      "\n",
      "* Organizing the FIFA World Cup, which is held every four years\n",
      "* Running the UEFA Champions League and other major club competitions\n",
      "* Overseeing international matches between national teams\n",
      "* Setting standards for stadium safety and player welfare\n",
      "* Providing support for football development programs in countries around the world\n",
      "\n",
      "FIFA also has a significant financial impact, with an estimated annual revenue of over $5 billion. The organization is headquartered in Zurich, Switzerland, and is led by a president who serves as the chief executive officer.\n",
      "\n",
      "Some notable FIFA events include:\n",
      "\n",
      "* The FIFA World Cup\n",
      "* The UEFA Champions League\n",
      "* The FIFA Women's World Cup\n",
      "* The FIFA Club World Cup\n",
      "\n",
      "Overall, FIFA plays a crucial role in promoting and governing the sport of football worldwide.\n"
     ]
    }
   ],
   "source": [
    "from langchain_core.output_parsers import StrOutputParser\n",
    "\n",
    "parser = StrOutputParser()\n",
    "\n",
    "chain = ollama_model | parser\n",
    "\n",
    "print(chain.invoke(\"What is FIFA?\"))"
   ]
  },
  {
   "cell_type": "code",
   "execution_count": 36,
   "metadata": {},
   "outputs": [
    {
     "name": "stdout",
     "output_type": "stream",
     "text": [
      "\n",
      "you are an assistant that provides answers to questions based on a given context.\n",
      "Answer the question based on the context. if you can't find the answer in the context, say \"I don't know\".\n",
      "Be as concise as possible and go straight to the point.\n",
      "Context: This is context.\n",
      "Question: What is the question?\n",
      "\n"
     ]
    }
   ],
   "source": [
    "from langchain.prompts import PromptTemplate\n",
    "\n",
    "template = \"\"\"\n",
    "you are an assistant that provides answers to questions based on a given context.\n",
    "Answer the question based on the context. if you can't find the answer in the context, say \"I don't know\".\n",
    "Be as concise as possible and go straight to the point.\n",
    "Context: {context}\n",
    "Question: {question}\n",
    "\"\"\"\n",
    "\n",
    "prompt = PromptTemplate.from_template(template)\n",
    "print(prompt.format(context=\"This is context.\", question=\"What is the question?\"))"
   ]
  },
  {
   "cell_type": "code",
   "execution_count": 42,
   "metadata": {},
   "outputs": [
    {
     "data": {
      "text/plain": [
       "'The capital of Australia is Canberra. Its area is approximately 814 square kilometers (314 sq mi).'"
      ]
     },
     "execution_count": 42,
     "metadata": {},
     "output_type": "execute_result"
    }
   ],
   "source": [
    "chain = (\n",
    "    prompt \n",
    "    | ollama_model \n",
    "    | parser\n",
    ")\n",
    "\n",
    "chain.invoke({\n",
    "    \"context\": \"Australia is a country.\",\n",
    "    \"question\": \"Where is the capital of Australia? What's its area?\"\n",
    "})"
   ]
  },
  {
   "cell_type": "code",
   "execution_count": 50,
   "metadata": {},
   "outputs": [],
   "source": [
    "from operator import itemgetter\n",
    "\n",
    "chain = (\n",
    "    {\n",
    "        \"context\": itemgetter(\"question\") | retreiver,\n",
    "        \"question\": itemgetter(\"question\")\n",
    "    }\n",
    "    | prompt \n",
    "    | ollama_model \n",
    "    | parser\n",
    ")"
   ]
  },
  {
   "cell_type": "code",
   "execution_count": 49,
   "metadata": {},
   "outputs": [
    {
     "ename": "KeyError",
     "evalue": "'quesiton'",
     "output_type": "error",
     "traceback": [
      "\u001b[0;31m---------------------------------------------------------------------------\u001b[0m",
      "\u001b[0;31mKeyError\u001b[0m                                  Traceback (most recent call last)",
      "Cell \u001b[0;32mIn[49], line 10\u001b[0m\n\u001b[1;32m      1\u001b[0m questions \u001b[38;5;241m=\u001b[39m [\n\u001b[1;32m      2\u001b[0m     \u001b[38;5;124m\"\u001b[39m\u001b[38;5;124mWhat can you get away with when you have a small number of users?\u001b[39m\u001b[38;5;124m\"\u001b[39m,\n\u001b[1;32m      3\u001b[0m     \u001b[38;5;124m\"\u001b[39m\u001b[38;5;124mWhat\u001b[39m\u001b[38;5;124m'\u001b[39m\u001b[38;5;124ms the most common unscalable thing founders have to do at the start?\u001b[39m\u001b[38;5;124m\"\u001b[39m,\n\u001b[1;32m      4\u001b[0m     \u001b[38;5;124m\"\u001b[39m\u001b[38;5;124mWhat\u001b[39m\u001b[38;5;124m'\u001b[39m\u001b[38;5;124ms the one of the biggest things inexperienced founders and investors get wrong about startups?\u001b[39m\u001b[38;5;124m\"\u001b[39m\n\u001b[1;32m      5\u001b[0m ]\n\u001b[1;32m      7\u001b[0m \u001b[38;5;28;01mfor\u001b[39;00m question \u001b[38;5;129;01min\u001b[39;00m questions:\n\u001b[1;32m      8\u001b[0m     \u001b[38;5;66;03m# print(f\"Question: {question}\")\u001b[39;00m\n\u001b[1;32m      9\u001b[0m     \u001b[38;5;66;03m# print(f\"Answer: {chain.invoke({'question': question})}\")\u001b[39;00m\n\u001b[0;32m---> 10\u001b[0m     \u001b[43mchain\u001b[49m\u001b[38;5;241;43m.\u001b[39;49m\u001b[43minvoke\u001b[49m\u001b[43m(\u001b[49m\u001b[43m{\u001b[49m\u001b[38;5;124;43m'\u001b[39;49m\u001b[38;5;124;43mquestion\u001b[39;49m\u001b[38;5;124;43m'\u001b[39;49m\u001b[43m:\u001b[49m\u001b[43m \u001b[49m\u001b[43mquestion\u001b[49m\u001b[43m}\u001b[49m\u001b[43m)\u001b[49m\n\u001b[1;32m     11\u001b[0m     \u001b[38;5;28mprint\u001b[39m(\u001b[38;5;124m\"\u001b[39m\u001b[38;5;124m***********************\u001b[39m\u001b[38;5;124m\"\u001b[39m)\n",
      "File \u001b[0;32m~/dev/projects/llama-rag/venv/lib/python3.12/site-packages/langchain_core/runnables/base.py:3022\u001b[0m, in \u001b[0;36mRunnableSequence.invoke\u001b[0;34m(self, input, config, **kwargs)\u001b[0m\n\u001b[1;32m   3020\u001b[0m context\u001b[38;5;241m.\u001b[39mrun(_set_config_context, config)\n\u001b[1;32m   3021\u001b[0m \u001b[38;5;28;01mif\u001b[39;00m i \u001b[38;5;241m==\u001b[39m \u001b[38;5;241m0\u001b[39m:\n\u001b[0;32m-> 3022\u001b[0m     \u001b[38;5;28minput\u001b[39m \u001b[38;5;241m=\u001b[39m \u001b[43mcontext\u001b[49m\u001b[38;5;241;43m.\u001b[39;49m\u001b[43mrun\u001b[49m\u001b[43m(\u001b[49m\u001b[43mstep\u001b[49m\u001b[38;5;241;43m.\u001b[39;49m\u001b[43minvoke\u001b[49m\u001b[43m,\u001b[49m\u001b[43m \u001b[49m\u001b[38;5;28;43minput\u001b[39;49m\u001b[43m,\u001b[49m\u001b[43m \u001b[49m\u001b[43mconfig\u001b[49m\u001b[43m,\u001b[49m\u001b[43m \u001b[49m\u001b[38;5;241;43m*\u001b[39;49m\u001b[38;5;241;43m*\u001b[39;49m\u001b[43mkwargs\u001b[49m\u001b[43m)\u001b[49m\n\u001b[1;32m   3023\u001b[0m \u001b[38;5;28;01melse\u001b[39;00m:\n\u001b[1;32m   3024\u001b[0m     \u001b[38;5;28minput\u001b[39m \u001b[38;5;241m=\u001b[39m context\u001b[38;5;241m.\u001b[39mrun(step\u001b[38;5;241m.\u001b[39minvoke, \u001b[38;5;28minput\u001b[39m, config)\n",
      "File \u001b[0;32m~/dev/projects/llama-rag/venv/lib/python3.12/site-packages/langchain_core/runnables/base.py:3727\u001b[0m, in \u001b[0;36mRunnableParallel.invoke\u001b[0;34m(self, input, config, **kwargs)\u001b[0m\n\u001b[1;32m   3722\u001b[0m     \u001b[38;5;28;01mwith\u001b[39;00m get_executor_for_config(config) \u001b[38;5;28;01mas\u001b[39;00m executor:\n\u001b[1;32m   3723\u001b[0m         futures \u001b[38;5;241m=\u001b[39m [\n\u001b[1;32m   3724\u001b[0m             executor\u001b[38;5;241m.\u001b[39msubmit(_invoke_step, step, \u001b[38;5;28minput\u001b[39m, config, key)\n\u001b[1;32m   3725\u001b[0m             \u001b[38;5;28;01mfor\u001b[39;00m key, step \u001b[38;5;129;01min\u001b[39;00m steps\u001b[38;5;241m.\u001b[39mitems()\n\u001b[1;32m   3726\u001b[0m         ]\n\u001b[0;32m-> 3727\u001b[0m         output \u001b[38;5;241m=\u001b[39m {key: \u001b[43mfuture\u001b[49m\u001b[38;5;241;43m.\u001b[39;49m\u001b[43mresult\u001b[49m\u001b[43m(\u001b[49m\u001b[43m)\u001b[49m \u001b[38;5;28;01mfor\u001b[39;00m key, future \u001b[38;5;129;01min\u001b[39;00m \u001b[38;5;28mzip\u001b[39m(steps, futures)}\n\u001b[1;32m   3728\u001b[0m \u001b[38;5;66;03m# finish the root run\u001b[39;00m\n\u001b[1;32m   3729\u001b[0m \u001b[38;5;28;01mexcept\u001b[39;00m \u001b[38;5;167;01mBaseException\u001b[39;00m \u001b[38;5;28;01mas\u001b[39;00m e:\n",
      "File \u001b[0;32m/usr/lib/python3.12/concurrent/futures/_base.py:449\u001b[0m, in \u001b[0;36mFuture.result\u001b[0;34m(self, timeout)\u001b[0m\n\u001b[1;32m    447\u001b[0m     \u001b[38;5;28;01mraise\u001b[39;00m CancelledError()\n\u001b[1;32m    448\u001b[0m \u001b[38;5;28;01melif\u001b[39;00m \u001b[38;5;28mself\u001b[39m\u001b[38;5;241m.\u001b[39m_state \u001b[38;5;241m==\u001b[39m FINISHED:\n\u001b[0;32m--> 449\u001b[0m     \u001b[38;5;28;01mreturn\u001b[39;00m \u001b[38;5;28;43mself\u001b[39;49m\u001b[38;5;241;43m.\u001b[39;49m\u001b[43m__get_result\u001b[49m\u001b[43m(\u001b[49m\u001b[43m)\u001b[49m\n\u001b[1;32m    451\u001b[0m \u001b[38;5;28mself\u001b[39m\u001b[38;5;241m.\u001b[39m_condition\u001b[38;5;241m.\u001b[39mwait(timeout)\n\u001b[1;32m    453\u001b[0m \u001b[38;5;28;01mif\u001b[39;00m \u001b[38;5;28mself\u001b[39m\u001b[38;5;241m.\u001b[39m_state \u001b[38;5;129;01min\u001b[39;00m [CANCELLED, CANCELLED_AND_NOTIFIED]:\n",
      "File \u001b[0;32m/usr/lib/python3.12/concurrent/futures/_base.py:401\u001b[0m, in \u001b[0;36mFuture.__get_result\u001b[0;34m(self)\u001b[0m\n\u001b[1;32m    399\u001b[0m \u001b[38;5;28;01mif\u001b[39;00m \u001b[38;5;28mself\u001b[39m\u001b[38;5;241m.\u001b[39m_exception:\n\u001b[1;32m    400\u001b[0m     \u001b[38;5;28;01mtry\u001b[39;00m:\n\u001b[0;32m--> 401\u001b[0m         \u001b[38;5;28;01mraise\u001b[39;00m \u001b[38;5;28mself\u001b[39m\u001b[38;5;241m.\u001b[39m_exception\n\u001b[1;32m    402\u001b[0m     \u001b[38;5;28;01mfinally\u001b[39;00m:\n\u001b[1;32m    403\u001b[0m         \u001b[38;5;66;03m# Break a reference cycle with the exception in self._exception\u001b[39;00m\n\u001b[1;32m    404\u001b[0m         \u001b[38;5;28mself\u001b[39m \u001b[38;5;241m=\u001b[39m \u001b[38;5;28;01mNone\u001b[39;00m\n",
      "File \u001b[0;32m/usr/lib/python3.12/concurrent/futures/thread.py:58\u001b[0m, in \u001b[0;36m_WorkItem.run\u001b[0;34m(self)\u001b[0m\n\u001b[1;32m     55\u001b[0m     \u001b[38;5;28;01mreturn\u001b[39;00m\n\u001b[1;32m     57\u001b[0m \u001b[38;5;28;01mtry\u001b[39;00m:\n\u001b[0;32m---> 58\u001b[0m     result \u001b[38;5;241m=\u001b[39m \u001b[38;5;28;43mself\u001b[39;49m\u001b[38;5;241;43m.\u001b[39;49m\u001b[43mfn\u001b[49m\u001b[43m(\u001b[49m\u001b[38;5;241;43m*\u001b[39;49m\u001b[38;5;28;43mself\u001b[39;49m\u001b[38;5;241;43m.\u001b[39;49m\u001b[43margs\u001b[49m\u001b[43m,\u001b[49m\u001b[43m \u001b[49m\u001b[38;5;241;43m*\u001b[39;49m\u001b[38;5;241;43m*\u001b[39;49m\u001b[38;5;28;43mself\u001b[39;49m\u001b[38;5;241;43m.\u001b[39;49m\u001b[43mkwargs\u001b[49m\u001b[43m)\u001b[49m\n\u001b[1;32m     59\u001b[0m \u001b[38;5;28;01mexcept\u001b[39;00m \u001b[38;5;167;01mBaseException\u001b[39;00m \u001b[38;5;28;01mas\u001b[39;00m exc:\n\u001b[1;32m     60\u001b[0m     \u001b[38;5;28mself\u001b[39m\u001b[38;5;241m.\u001b[39mfuture\u001b[38;5;241m.\u001b[39mset_exception(exc)\n",
      "File \u001b[0;32m~/dev/projects/llama-rag/venv/lib/python3.12/site-packages/langchain_core/runnables/base.py:3711\u001b[0m, in \u001b[0;36mRunnableParallel.invoke.<locals>._invoke_step\u001b[0;34m(step, input, config, key)\u001b[0m\n\u001b[1;32m   3709\u001b[0m context \u001b[38;5;241m=\u001b[39m copy_context()\n\u001b[1;32m   3710\u001b[0m context\u001b[38;5;241m.\u001b[39mrun(_set_config_context, child_config)\n\u001b[0;32m-> 3711\u001b[0m \u001b[38;5;28;01mreturn\u001b[39;00m \u001b[43mcontext\u001b[49m\u001b[38;5;241;43m.\u001b[39;49m\u001b[43mrun\u001b[49m\u001b[43m(\u001b[49m\n\u001b[1;32m   3712\u001b[0m \u001b[43m    \u001b[49m\u001b[43mstep\u001b[49m\u001b[38;5;241;43m.\u001b[39;49m\u001b[43minvoke\u001b[49m\u001b[43m,\u001b[49m\n\u001b[1;32m   3713\u001b[0m \u001b[43m    \u001b[49m\u001b[38;5;28;43minput\u001b[39;49m\u001b[43m,\u001b[49m\n\u001b[1;32m   3714\u001b[0m \u001b[43m    \u001b[49m\u001b[43mchild_config\u001b[49m\u001b[43m,\u001b[49m\n\u001b[1;32m   3715\u001b[0m \u001b[43m\u001b[49m\u001b[43m)\u001b[49m\n",
      "File \u001b[0;32m~/dev/projects/llama-rag/venv/lib/python3.12/site-packages/langchain_core/runnables/base.py:4713\u001b[0m, in \u001b[0;36mRunnableLambda.invoke\u001b[0;34m(self, input, config, **kwargs)\u001b[0m\n\u001b[1;32m   4699\u001b[0m \u001b[38;5;250m\u001b[39m\u001b[38;5;124;03m\"\"\"Invoke this Runnable synchronously.\u001b[39;00m\n\u001b[1;32m   4700\u001b[0m \n\u001b[1;32m   4701\u001b[0m \u001b[38;5;124;03mArgs:\u001b[39;00m\n\u001b[0;32m   (...)\u001b[0m\n\u001b[1;32m   4710\u001b[0m \u001b[38;5;124;03m    TypeError: If the Runnable is a coroutine function.\u001b[39;00m\n\u001b[1;32m   4711\u001b[0m \u001b[38;5;124;03m\"\"\"\u001b[39;00m\n\u001b[1;32m   4712\u001b[0m \u001b[38;5;28;01mif\u001b[39;00m \u001b[38;5;28mhasattr\u001b[39m(\u001b[38;5;28mself\u001b[39m, \u001b[38;5;124m\"\u001b[39m\u001b[38;5;124mfunc\u001b[39m\u001b[38;5;124m\"\u001b[39m):\n\u001b[0;32m-> 4713\u001b[0m     \u001b[38;5;28;01mreturn\u001b[39;00m \u001b[38;5;28;43mself\u001b[39;49m\u001b[38;5;241;43m.\u001b[39;49m\u001b[43m_call_with_config\u001b[49m\u001b[43m(\u001b[49m\n\u001b[1;32m   4714\u001b[0m \u001b[43m        \u001b[49m\u001b[38;5;28;43mself\u001b[39;49m\u001b[38;5;241;43m.\u001b[39;49m\u001b[43m_invoke\u001b[49m\u001b[43m,\u001b[49m\n\u001b[1;32m   4715\u001b[0m \u001b[43m        \u001b[49m\u001b[38;5;28;43minput\u001b[39;49m\u001b[43m,\u001b[49m\n\u001b[1;32m   4716\u001b[0m \u001b[43m        \u001b[49m\u001b[38;5;28;43mself\u001b[39;49m\u001b[38;5;241;43m.\u001b[39;49m\u001b[43m_config\u001b[49m\u001b[43m(\u001b[49m\u001b[43mconfig\u001b[49m\u001b[43m,\u001b[49m\u001b[43m \u001b[49m\u001b[38;5;28;43mself\u001b[39;49m\u001b[38;5;241;43m.\u001b[39;49m\u001b[43mfunc\u001b[49m\u001b[43m)\u001b[49m\u001b[43m,\u001b[49m\n\u001b[1;32m   4717\u001b[0m \u001b[43m        \u001b[49m\u001b[38;5;241;43m*\u001b[39;49m\u001b[38;5;241;43m*\u001b[39;49m\u001b[43mkwargs\u001b[49m\u001b[43m,\u001b[49m\n\u001b[1;32m   4718\u001b[0m \u001b[43m    \u001b[49m\u001b[43m)\u001b[49m\n\u001b[1;32m   4719\u001b[0m \u001b[38;5;28;01melse\u001b[39;00m:\n\u001b[1;32m   4720\u001b[0m     msg \u001b[38;5;241m=\u001b[39m (\n\u001b[1;32m   4721\u001b[0m         \u001b[38;5;124m\"\u001b[39m\u001b[38;5;124mCannot invoke a coroutine function synchronously.\u001b[39m\u001b[38;5;124m\"\u001b[39m\n\u001b[1;32m   4722\u001b[0m         \u001b[38;5;124m\"\u001b[39m\u001b[38;5;124mUse `ainvoke` instead.\u001b[39m\u001b[38;5;124m\"\u001b[39m\n\u001b[1;32m   4723\u001b[0m     )\n",
      "File \u001b[0;32m~/dev/projects/llama-rag/venv/lib/python3.12/site-packages/langchain_core/runnables/base.py:1927\u001b[0m, in \u001b[0;36mRunnable._call_with_config\u001b[0;34m(self, func, input, config, run_type, serialized, **kwargs)\u001b[0m\n\u001b[1;32m   1923\u001b[0m     context \u001b[38;5;241m=\u001b[39m copy_context()\n\u001b[1;32m   1924\u001b[0m     context\u001b[38;5;241m.\u001b[39mrun(_set_config_context, child_config)\n\u001b[1;32m   1925\u001b[0m     output \u001b[38;5;241m=\u001b[39m cast(\n\u001b[1;32m   1926\u001b[0m         Output,\n\u001b[0;32m-> 1927\u001b[0m         \u001b[43mcontext\u001b[49m\u001b[38;5;241;43m.\u001b[39;49m\u001b[43mrun\u001b[49m\u001b[43m(\u001b[49m\n\u001b[1;32m   1928\u001b[0m \u001b[43m            \u001b[49m\u001b[43mcall_func_with_variable_args\u001b[49m\u001b[43m,\u001b[49m\u001b[43m  \u001b[49m\u001b[38;5;66;43;03m# type: ignore[arg-type]\u001b[39;49;00m\n\u001b[1;32m   1929\u001b[0m \u001b[43m            \u001b[49m\u001b[43mfunc\u001b[49m\u001b[43m,\u001b[49m\u001b[43m  \u001b[49m\u001b[38;5;66;43;03m# type: ignore[arg-type]\u001b[39;49;00m\n\u001b[1;32m   1930\u001b[0m \u001b[43m            \u001b[49m\u001b[38;5;28;43minput\u001b[39;49m\u001b[43m,\u001b[49m\u001b[43m  \u001b[49m\u001b[38;5;66;43;03m# type: ignore[arg-type]\u001b[39;49;00m\n\u001b[1;32m   1931\u001b[0m \u001b[43m            \u001b[49m\u001b[43mconfig\u001b[49m\u001b[43m,\u001b[49m\n\u001b[1;32m   1932\u001b[0m \u001b[43m            \u001b[49m\u001b[43mrun_manager\u001b[49m\u001b[43m,\u001b[49m\n\u001b[1;32m   1933\u001b[0m \u001b[43m            \u001b[49m\u001b[38;5;241;43m*\u001b[39;49m\u001b[38;5;241;43m*\u001b[39;49m\u001b[43mkwargs\u001b[49m\u001b[43m,\u001b[49m\n\u001b[1;32m   1934\u001b[0m \u001b[43m        \u001b[49m\u001b[43m)\u001b[49m,\n\u001b[1;32m   1935\u001b[0m     )\n\u001b[1;32m   1936\u001b[0m \u001b[38;5;28;01mexcept\u001b[39;00m \u001b[38;5;167;01mBaseException\u001b[39;00m \u001b[38;5;28;01mas\u001b[39;00m e:\n\u001b[1;32m   1937\u001b[0m     run_manager\u001b[38;5;241m.\u001b[39mon_chain_error(e)\n",
      "File \u001b[0;32m~/dev/projects/llama-rag/venv/lib/python3.12/site-packages/langchain_core/runnables/config.py:396\u001b[0m, in \u001b[0;36mcall_func_with_variable_args\u001b[0;34m(func, input, config, run_manager, **kwargs)\u001b[0m\n\u001b[1;32m    394\u001b[0m \u001b[38;5;28;01mif\u001b[39;00m run_manager \u001b[38;5;129;01mis\u001b[39;00m \u001b[38;5;129;01mnot\u001b[39;00m \u001b[38;5;28;01mNone\u001b[39;00m \u001b[38;5;129;01mand\u001b[39;00m accepts_run_manager(func):\n\u001b[1;32m    395\u001b[0m     kwargs[\u001b[38;5;124m\"\u001b[39m\u001b[38;5;124mrun_manager\u001b[39m\u001b[38;5;124m\"\u001b[39m] \u001b[38;5;241m=\u001b[39m run_manager\n\u001b[0;32m--> 396\u001b[0m \u001b[38;5;28;01mreturn\u001b[39;00m \u001b[43mfunc\u001b[49m\u001b[43m(\u001b[49m\u001b[38;5;28;43minput\u001b[39;49m\u001b[43m,\u001b[49m\u001b[43m \u001b[49m\u001b[38;5;241;43m*\u001b[39;49m\u001b[38;5;241;43m*\u001b[39;49m\u001b[43mkwargs\u001b[49m\u001b[43m)\u001b[49m\n",
      "File \u001b[0;32m~/dev/projects/llama-rag/venv/lib/python3.12/site-packages/langchain_core/runnables/base.py:4567\u001b[0m, in \u001b[0;36mRunnableLambda._invoke\u001b[0;34m(self, input, run_manager, config, **kwargs)\u001b[0m\n\u001b[1;32m   4565\u001b[0m                 output \u001b[38;5;241m=\u001b[39m chunk\n\u001b[1;32m   4566\u001b[0m \u001b[38;5;28;01melse\u001b[39;00m:\n\u001b[0;32m-> 4567\u001b[0m     output \u001b[38;5;241m=\u001b[39m \u001b[43mcall_func_with_variable_args\u001b[49m\u001b[43m(\u001b[49m\n\u001b[1;32m   4568\u001b[0m \u001b[43m        \u001b[49m\u001b[38;5;28;43mself\u001b[39;49m\u001b[38;5;241;43m.\u001b[39;49m\u001b[43mfunc\u001b[49m\u001b[43m,\u001b[49m\u001b[43m \u001b[49m\u001b[38;5;28;43minput\u001b[39;49m\u001b[43m,\u001b[49m\u001b[43m \u001b[49m\u001b[43mconfig\u001b[49m\u001b[43m,\u001b[49m\u001b[43m \u001b[49m\u001b[43mrun_manager\u001b[49m\u001b[43m,\u001b[49m\u001b[43m \u001b[49m\u001b[38;5;241;43m*\u001b[39;49m\u001b[38;5;241;43m*\u001b[39;49m\u001b[43mkwargs\u001b[49m\n\u001b[1;32m   4569\u001b[0m \u001b[43m    \u001b[49m\u001b[43m)\u001b[49m\n\u001b[1;32m   4570\u001b[0m \u001b[38;5;66;03m# If the output is a Runnable, invoke it\u001b[39;00m\n\u001b[1;32m   4571\u001b[0m \u001b[38;5;28;01mif\u001b[39;00m \u001b[38;5;28misinstance\u001b[39m(output, Runnable):\n",
      "File \u001b[0;32m~/dev/projects/llama-rag/venv/lib/python3.12/site-packages/langchain_core/runnables/config.py:396\u001b[0m, in \u001b[0;36mcall_func_with_variable_args\u001b[0;34m(func, input, config, run_manager, **kwargs)\u001b[0m\n\u001b[1;32m    394\u001b[0m \u001b[38;5;28;01mif\u001b[39;00m run_manager \u001b[38;5;129;01mis\u001b[39;00m \u001b[38;5;129;01mnot\u001b[39;00m \u001b[38;5;28;01mNone\u001b[39;00m \u001b[38;5;129;01mand\u001b[39;00m accepts_run_manager(func):\n\u001b[1;32m    395\u001b[0m     kwargs[\u001b[38;5;124m\"\u001b[39m\u001b[38;5;124mrun_manager\u001b[39m\u001b[38;5;124m\"\u001b[39m] \u001b[38;5;241m=\u001b[39m run_manager\n\u001b[0;32m--> 396\u001b[0m \u001b[38;5;28;01mreturn\u001b[39;00m \u001b[43mfunc\u001b[49m\u001b[43m(\u001b[49m\u001b[38;5;28;43minput\u001b[39;49m\u001b[43m,\u001b[49m\u001b[43m \u001b[49m\u001b[38;5;241;43m*\u001b[39;49m\u001b[38;5;241;43m*\u001b[39;49m\u001b[43mkwargs\u001b[49m\u001b[43m)\u001b[49m\n",
      "\u001b[0;31mKeyError\u001b[0m: 'quesiton'"
     ]
    }
   ],
   "source": [
    "questions = [\n",
    "    \"What can you get away with when you have a small number of users?\",\n",
    "    \"What's the most common unscalable thing founders have to do at the start?\",\n",
    "    \"What's the one of the biggest things inexperienced founders and investors get wrong about startups?\"\n",
    "]\n",
    "\n",
    "for question in questions:\n",
    "    print(f\"Question: {question}\")\n",
    "    print(f\"Answer: {chain.invoke({'question': question})}\")\n",
    "    print(\"***********************\")"
   ]
  }
 ],
 "metadata": {
  "kernelspec": {
   "display_name": "venv",
   "language": "python",
   "name": "python3"
  },
  "language_info": {
   "codemirror_mode": {
    "name": "ipython",
    "version": 3
   },
   "file_extension": ".py",
   "mimetype": "text/x-python",
   "name": "python",
   "nbconvert_exporter": "python",
   "pygments_lexer": "ipython3",
   "version": "3.12.3"
  }
 },
 "nbformat": 4,
 "nbformat_minor": 2
}
